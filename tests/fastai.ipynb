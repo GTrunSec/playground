{
 "cells": [
  {
   "cell_type": "code",
   "execution_count": null,
   "id": "16ca9dfb-14fe-471b-9c63-02000d5ab103",
   "metadata": {},
   "outputs": [],
   "source": [
    "from fastai.basics import *\n",
    "from fastai.callback.all import *\n",
    "from fastai.vision.all import *"
   ]
  }
 ],
 "metadata": {
  "kernelspec": {
   "display_name": "python-data-science kernel",
   "language": "python",
   "name": "python-data-science"
  },
  "language_info": {
   "codemirror_mode": {
    "name": "ipython",
    "version": 3
   },
   "file_extension": ".py",
   "mimetype": "text/x-python",
   "name": "python",
   "nbconvert_exporter": "python",
   "pygments_lexer": "ipython3",
   "version": "3.10.9"
  }
 },
 "nbformat": 4,
 "nbformat_minor": 5
}
