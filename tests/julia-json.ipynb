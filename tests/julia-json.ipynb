{
 "cells": [
  {
   "cell_type": "code",
   "execution_count": 1,
   "id": "0778e7f3-551d-43c1-ae32-73ea75454d56",
   "metadata": {},
   "outputs": [
    {
     "ename": "LoadError",
     "evalue": "ArgumentError: Package JSON3 not found in current path.\n- Run `import Pkg; Pkg.add(\"JSON3\")` to install the JSON3 package.",
     "output_type": "error",
     "traceback": [
      "ArgumentError: Package JSON3 not found in current path.\n- Run `import Pkg; Pkg.add(\"JSON3\")` to install the JSON3 package.",
      "",
      "Stacktrace:",
      " [1] macro expansion",
      "   @ ./loading.jl:1163 [inlined]",
      " [2] macro expansion",
      "   @ ./lock.jl:223 [inlined]",
      " [3] require(into::Module, mod::Symbol)",
      "   @ Base ./loading.jl:1144"
     ]
    }
   ],
   "source": [
    "using JSON3, JSONTables,DataFrames"
   ]
  },
  {
   "cell_type": "code",
   "execution_count": 2,
   "id": "b57bc785-b764-4341-95cc-dc17ea3ee2b1",
   "metadata": {},
   "outputs": [
    {
     "data": {
      "text/plain": [
       "JSONTables.Table{false, JSON3.Array{JSON3.Object, Base.CodeUnits{UInt8, String}, Vector{UInt64}}}([:threatType, :platformType, :threat, :cacheDuration, :threatEntryType], Dict{Symbol, Type}(:threat => JSON3.Object{Base.CodeUnits{UInt8, String}, SubArray{UInt64, 1, Vector{UInt64}, Tuple{UnitRange{Int64}}, true}}, :threatType => String, :platformType => String, :threatEntryType => String, :cacheDuration => String), JSON3.Object[{\n",
       "        \"threatType\": \"SOCIAL_ENGINEERING\",\n",
       "      \"platformType\": \"ANY_PLATFORM\",\n",
       "            \"threat\": {\n",
       "                         \"url\": \"https://cicerosoares.com.br/wp-admin/lknd.htm\"\n",
       "                      },\n",
       "     \"cacheDuration\": \"300s\",\n",
       "   \"threatEntryType\": \"URL\"\n",
       "}])"
      ]
     },
     "execution_count": 2,
     "metadata": {},
     "output_type": "execute_result"
    }
   ],
   "source": [
    "table = jsontable(read(\"google-phishing-api.json\",String))"
   ]
  },
  {
   "cell_type": "code",
   "execution_count": 3,
   "id": "51782108-0194-4f49-8369-3a4f601f6dc5",
   "metadata": {},
   "outputs": [
    {
     "data": {
      "text/html": [
       "<div><div style = \"float: left;\"><span>1×5 DataFrame</span></div><div style = \"clear: both;\"></div></div><div class = \"data-frame\" style = \"overflow-x: scroll;\"><table class = \"data-frame\" style = \"margin-bottom: 6px;\"><thead><tr class = \"header\"><th class = \"rowNumber\" style = \"font-weight: bold; text-align: right;\">Row</th><th style = \"text-align: left;\">threatType</th><th style = \"text-align: left;\">platformType</th><th style = \"text-align: left;\">threat</th><th style = \"text-align: left;\">cacheDuration</th><th style = \"text-align: left;\">threatEntryType</th></tr><tr class = \"subheader headerLastRow\"><th class = \"rowNumber\" style = \"font-weight: bold; text-align: right;\"></th><th title = \"String\" style = \"text-align: left;\">String</th><th title = \"String\" style = \"text-align: left;\">String</th><th title = \"JSON3.Object{Base.CodeUnits{UInt8, String}, SubArray{UInt64, 1, Vector{UInt64}, Tuple{UnitRange{Int64}}, true}}\" style = \"text-align: left;\">Object…</th><th title = \"String\" style = \"text-align: left;\">String</th><th title = \"String\" style = \"text-align: left;\">String</th></tr></thead><tbody><tr><td class = \"rowNumber\" style = \"font-weight: bold; text-align: right;\">1</td><td style = \"text-align: left;\">SOCIAL_ENGINEERING</td><td style = \"text-align: left;\">ANY_PLATFORM</td><td style = \"text-align: left;\">{\\n   &quot;url&quot;: &quot;https://cicerosoares.com.br/wp-admin/lknd.htm&quot;\\n}</td><td style = \"text-align: left;\">300s</td><td style = \"text-align: left;\">URL</td></tr></tbody></table></div>"
      ],
      "text/latex": [
       "\\begin{tabular}{r|cccc}\n",
       "\t& threatType & platformType & threat & \\\\\n",
       "\t\\hline\n",
       "\t& String & String & Object… & \\\\\n",
       "\t\\hline\n",
       "\t1 & SOCIAL\\_ENGINEERING & ANY\\_PLATFORM & \\{\\textbackslash{}n   \"url\": \"https://cicerosoares.com.br/wp-admin/lknd.htm\"\\textbackslash{}n\\} & $\\dots$ \\\\\n",
       "\\end{tabular}\n"
      ],
      "text/plain": [
       "\u001b[1m1×5 DataFrame\u001b[0m\n",
       "\u001b[1m Row \u001b[0m│\u001b[1m threatType         \u001b[0m\u001b[1m platformType \u001b[0m\u001b[1m threat                            \u001b[0m\u001b[1m ca\u001b[0m ⋯\n",
       "     │\u001b[90m String             \u001b[0m\u001b[90m String       \u001b[0m\u001b[90m Object…                           \u001b[0m\u001b[90m St\u001b[0m ⋯\n",
       "─────┼──────────────────────────────────────────────────────────────────────────\n",
       "   1 │ SOCIAL_ENGINEERING  ANY_PLATFORM  {\\n   \"url\": \"https://cicerosoar…  30 ⋯\n",
       "\u001b[36m                                                               2 columns omitted\u001b[0m"
      ]
     },
     "execution_count": 3,
     "metadata": {},
     "output_type": "execute_result"
    }
   ],
   "source": [
    "DataFrame(table)"
   ]
  },
  {
   "cell_type": "code",
   "execution_count": null,
   "id": "b1179317-a81a-4454-a267-f44f4ce1d046",
   "metadata": {},
   "outputs": [],
   "source": []
  }
 ],
 "metadata": {
  "kernelspec": {
   "display_name": "julia-data-science kernel",
   "language": "julia",
   "name": "julia-data-science"
  },
  "language_info": {
   "file_extension": ".jl",
   "mimetype": "application/julia",
   "name": "julia",
   "version": "1.8.5"
  }
 },
 "nbformat": 4,
 "nbformat_minor": 5
}
